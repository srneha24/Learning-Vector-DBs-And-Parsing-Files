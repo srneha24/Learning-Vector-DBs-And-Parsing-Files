{
 "cells": [
  {
   "cell_type": "code",
   "execution_count": 24,
   "metadata": {},
   "outputs": [],
   "source": [
    "# Imports\n",
    "\n",
    "import os\n",
    "import nltk\n",
    "import json\n",
    "import numpy as np\n",
    "import requests\n",
    "from nltk.tokenize import word_tokenize\n",
    "from nltk.corpus import stopwords\n",
    "from dotenv import load_dotenv\n",
    "from gensim.models import Word2Vec\n",
    "from openai import OpenAI\n",
    "from psycopg2 import connect\n",
    "from cloudflare import Cloudflare\n",
    "from io import BytesIO"
   ]
  },
  {
   "cell_type": "code",
   "execution_count": 2,
   "metadata": {},
   "outputs": [],
   "source": [
    "QUERY_TEXT = \"Who was Quentin Beck?\""
   ]
  },
  {
   "cell_type": "code",
   "execution_count": 3,
   "metadata": {},
   "outputs": [
    {
     "name": "stderr",
     "output_type": "stream",
     "text": [
      "[nltk_data] Downloading package punkt to ./nltk...\n",
      "[nltk_data]   Package punkt is already up-to-date!\n",
      "[nltk_data] Downloading package stopwords to ./nltk...\n",
      "[nltk_data]   Package stopwords is already up-to-date!\n"
     ]
    },
    {
     "data": {
      "text/plain": [
       "True"
      ]
     },
     "execution_count": 3,
     "metadata": {},
     "output_type": "execute_result"
    }
   ],
   "source": [
    "# Download NLTK data files\n",
    "\n",
    "nltk.download('punkt', download_dir='./nltk')\n",
    "nltk.download('stopwords', download_dir='./nltk')"
   ]
  },
  {
   "cell_type": "code",
   "execution_count": 4,
   "metadata": {},
   "outputs": [],
   "source": [
    "# Declare variables\n",
    "\n",
    "sample_file_path = \"samples\"\n",
    "index_name = \"rag-test\""
   ]
  },
  {
   "cell_type": "code",
   "execution_count": 5,
   "metadata": {},
   "outputs": [],
   "source": [
    "# Read files and create tokens\n",
    "\n",
    "stop_words = stopwords.words('english')\n",
    "\n",
    "doc_tokens = list()\n",
    "doc_content = list()\n",
    "doc_files = list()\n",
    "for sample_file in os.listdir(\"./\" + sample_file_path):\n",
    "    with open(f\"./{sample_file_path}/{sample_file}\", 'r', encoding='utf-8') as f:\n",
    "        content = f.read()\n",
    "        doc_content.append(content)\n",
    "        tokens = word_tokenize(content)\n",
    "        doc_tokens.append([word.lower() for word in tokens if word not in stop_words])\n",
    "        doc_files.append(sample_file)"
   ]
  },
  {
   "cell_type": "code",
   "execution_count": 6,
   "metadata": {},
   "outputs": [
    {
     "name": "stdout",
     "output_type": "stream",
     "text": [
      "Word2Vec<vocab=681, vector_size=384, alpha=0.025>\n"
     ]
    },
    {
     "data": {
      "text/plain": [
       "(11172, 15060)"
      ]
     },
     "execution_count": 6,
     "metadata": {},
     "output_type": "execute_result"
    }
   ],
   "source": [
    "# Train model\n",
    "\n",
    "model = Word2Vec(sentences=doc_tokens, min_count=1, window=5, workers=4, vector_size=384)\n",
    "print(model)\n",
    "model.train(doc_tokens, total_examples=len(doc_tokens), epochs=10)"
   ]
  },
  {
   "cell_type": "markdown",
   "metadata": {},
   "source": [
    "`Word2Vec`\n",
    "\n",
    "**sentences:** The list of sentences split into words in lowercase.\n",
    "\n",
    "**min_count:** Which words to consider in accordance to the number of times they appear in the sentences. For example, if set to 1, that means all the words that occur once or more in all of the sentences will be used to create the embeddings. If set to 2, then all the words that occur twice or more will be created embeddings for.\n",
    "\n",
    "**window:** The maximum distance between the current and predicted word within a sentence. That is, how many words to the left and right of a given word are considered when training the model.\n",
    "\n",
    "**workers:** How many CPU cores will be used.\n",
    "\n",
    "**vector_size:** Dimension of the vectors. Set as 384 because that is the Chroma DB default."
   ]
  },
  {
   "cell_type": "code",
   "execution_count": 41,
   "metadata": {},
   "outputs": [],
   "source": [
    "# Create document embeddings\n",
    "\n",
    "doc_embeddings = list()\n",
    "for doc_token in doc_tokens:\n",
    "    valid_tokens = [token for token in doc_token if token in model.wv]\n",
    "    if not valid_tokens:\n",
    "        vector = np.zeros(model.vector_size)\n",
    "    else:\n",
    "        vector = np.mean([model.wv[token] for token in valid_tokens], axis=0)\n",
    "    doc_embeddings.append([float(value) for value in vector])"
   ]
  },
  {
   "cell_type": "code",
   "execution_count": 8,
   "metadata": {},
   "outputs": [],
   "source": [
    "# Load environment variables\n",
    "\n",
    "load_dotenv()\n",
    "\n",
    "OPENAI_ORGANIZATION_ID = os.getenv('OPENAI_ORGANIZATION_ID')\n",
    "OPENAI_PROJECT_ID = os.getenv('OPENAI_PROJECT_ID')\n",
    "OPENAI_API_KEY = os.getenv('OPENAI_API_KEY')\n",
    "\n",
    "CLOUDFLARE_TOKEN = os.getenv('CLOUDFLARE_TOKEN')\n",
    "CLOUDFLARE_ACCOUNT_IDENTIFIER = os.getenv('CLOUDFLARE_ACCOUNT_IDENTIFIER')\n",
    "\n",
    "DB_HOST = os.getenv('DB_HOST')\n",
    "DB_NAME = os.getenv('DB_NAME')\n",
    "DB_USERNAME = os.getenv('DB_USERNAME')\n",
    "DB_PASSWORD = os.getenv('DB_PASSWORD')\n",
    "DB_PORT = os.getenv('DB_PORT')"
   ]
  },
  {
   "cell_type": "code",
   "execution_count": 9,
   "metadata": {},
   "outputs": [],
   "source": [
    "# Instantiate Postgres client\n",
    "\n",
    "pg_config = {\n",
    "    'host': DB_HOST,\n",
    "    'database': DB_NAME,\n",
    "    'user': DB_USERNAME,\n",
    "    'password': DB_PASSWORD,\n",
    "    'port': DB_PORT\n",
    "}\n",
    "\n",
    "pg_client = connect(**pg_config)\n",
    "cursor = pg_client.cursor()"
   ]
  },
  {
   "cell_type": "code",
   "execution_count": 10,
   "metadata": {},
   "outputs": [],
   "source": [
    "# Create database table\n",
    "\n",
    "create_table_query = \"\"\"\n",
    "CREATE TABLE IF NOT EXISTS embedding_docs (\n",
    "            id SERIAL PRIMARY KEY, \n",
    "            document VARCHAR(200),\n",
    "            content text\n",
    "            );\n",
    "            \"\"\"\n",
    "cursor.execute(create_table_query)\n",
    "pg_client.commit()"
   ]
  },
  {
   "cell_type": "code",
   "execution_count": 11,
   "metadata": {},
   "outputs": [
    {
     "name": "stdout",
     "output_type": "stream",
     "text": [
      "Insertion Complete\n"
     ]
    }
   ],
   "source": [
    "# Populate table\n",
    "\n",
    "doc_ids = list()\n",
    "for i in range(len(doc_content)):\n",
    "    temp = (doc_files[i], doc_content[i])\n",
    "    cursor.execute(\"INSERT into embedding_docs(document, content) VALUES (%s, %s) RETURNING id\", temp)\n",
    "    obj_id = cursor.fetchone()[0]\n",
    "    doc_ids.append(obj_id)\n",
    "\n",
    "print(\"Insertion Complete\")\n",
    "pg_client.commit()\n",
    "cursor.close()"
   ]
  },
  {
   "cell_type": "code",
   "execution_count": 17,
   "metadata": {},
   "outputs": [
    {
     "name": "stdout",
     "output_type": "stream",
     "text": [
      "201\n",
      "{\n",
      "  \"result\": {\n",
      "    \"created_on\": \"2024-06-25T05:41:35.711043Z\",\n",
      "    \"modified_on\": \"2024-06-25T05:41:35.711043Z\",\n",
      "    \"name\": \"rag-test\",\n",
      "    \"description\": \"RAG test vectorize index\",\n",
      "    \"config\": {\n",
      "      \"dimensions\": 384,\n",
      "      \"metric\": \"cosine\"\n",
      "    }\n",
      "  },\n",
      "  \"success\": true,\n",
      "  \"errors\": [],\n",
      "  \"messages\": []\n",
      "}\n",
      "\n"
     ]
    }
   ],
   "source": [
    "# Create Vectorize index\n",
    "\n",
    "url = f\"https://api.cloudflare.com/client/v4/accounts/{CLOUDFLARE_ACCOUNT_IDENTIFIER}/vectorize/indexes\"\n",
    "\n",
    "headers = {\n",
    "    \"Content-Type\": \"application/json\",\n",
    "    \"Authorization\": f\"Bearer {CLOUDFLARE_TOKEN}\"\n",
    "}\n",
    "\n",
    "payload = {\n",
    "    \"config\": {\n",
    "        \"dimensions\": 384,\n",
    "        \"metric\": \"cosine\"\n",
    "    },\n",
    "    \"description\": \"RAG test vectorize index\",\n",
    "    \"name\": index_name\n",
    "}\n",
    "\n",
    "response = requests.post(url=url, headers=headers, json=payload)\n",
    "\n",
    "# Delete Vectorize index\n",
    "# url = f\"https://api.cloudflare.com/client/v4/accounts/{CLOUDFLARE_ACCOUNT_IDENTIFIER}/vectorize/indexes/{index_name}\"\n",
    "# response = requests.delete(url=url, headers=headers)\n",
    "\n",
    "print(response.status_code)\n",
    "print(response.text)"
   ]
  },
  {
   "cell_type": "code",
   "execution_count": 42,
   "metadata": {},
   "outputs": [
    {
     "ename": "BadRequestError",
     "evalue": "Error code: 400 - {'result': None, 'success': False, 'errors': [{'code': 1006, 'message': 'vectorize.invalid_body_payload'}], 'messages': []}",
     "output_type": "error",
     "traceback": [
      "\u001b[0;31m---------------------------------------------------------------------------\u001b[0m",
      "\u001b[0;31mBadRequestError\u001b[0m                           Traceback (most recent call last)",
      "Cell \u001b[0;32mIn[42], line 38\u001b[0m\n\u001b[1;32m     20\u001b[0m \u001b[38;5;66;03m# headers = {\u001b[39;00m\n\u001b[1;32m     21\u001b[0m \u001b[38;5;66;03m#     \"Content-Type\": \"application/x-ndjson\",\u001b[39;00m\n\u001b[1;32m     22\u001b[0m \u001b[38;5;66;03m#     \"Authorization\": f\"Bearer {CLOUDFLARE_TOKEN}\"\u001b[39;00m\n\u001b[0;32m   (...)\u001b[0m\n\u001b[1;32m     34\u001b[0m \n\u001b[1;32m     35\u001b[0m \u001b[38;5;66;03m# ndjson_file.seek(0)\u001b[39;00m\n\u001b[1;32m     37\u001b[0m cf_client \u001b[38;5;241m=\u001b[39m Cloudflare(api_token\u001b[38;5;241m=\u001b[39mCLOUDFLARE_TOKEN)\n\u001b[0;32m---> 38\u001b[0m result \u001b[38;5;241m=\u001b[39m \u001b[43mcf_client\u001b[49m\u001b[38;5;241;43m.\u001b[39;49m\u001b[43mvectorize\u001b[49m\u001b[38;5;241;43m.\u001b[39;49m\u001b[43mindexes\u001b[49m\u001b[38;5;241;43m.\u001b[39;49m\u001b[43mupsert\u001b[49m\u001b[43m(\u001b[49m\n\u001b[1;32m     39\u001b[0m \u001b[43m    \u001b[49m\u001b[43mindex_name\u001b[49m\u001b[38;5;241;43m=\u001b[39;49m\u001b[43mindex_name\u001b[49m\u001b[43m,\u001b[49m\n\u001b[1;32m     40\u001b[0m \u001b[43m    \u001b[49m\u001b[43maccount_id\u001b[49m\u001b[38;5;241;43m=\u001b[39;49m\u001b[43mCLOUDFLARE_ACCOUNT_IDENTIFIER\u001b[49m\u001b[43m,\u001b[49m\n\u001b[1;32m     41\u001b[0m \u001b[43m    \u001b[49m\u001b[43mbody\u001b[49m\u001b[38;5;241;43m=\u001b[39;49m\u001b[43mndjson_str\u001b[49m\u001b[43m,\u001b[49m\n\u001b[1;32m     42\u001b[0m \u001b[43m    \u001b[49m\u001b[43mextra_headers\u001b[49m\u001b[38;5;241;43m=\u001b[39;49m\u001b[43m{\u001b[49m\u001b[38;5;124;43m\"\u001b[39;49m\u001b[38;5;124;43mContent-Type\u001b[39;49m\u001b[38;5;124;43m\"\u001b[39;49m\u001b[43m:\u001b[49m\u001b[43m \u001b[49m\u001b[38;5;124;43m\"\u001b[39;49m\u001b[38;5;124;43mapplication/x-ndjson\u001b[39;49m\u001b[38;5;124;43m\"\u001b[39;49m\u001b[43m}\u001b[49m\n\u001b[1;32m     43\u001b[0m \u001b[43m)\u001b[49m\n\u001b[1;32m     44\u001b[0m \u001b[38;5;28mprint\u001b[39m(result\u001b[38;5;241m.\u001b[39mmodel_dump())\n",
      "File \u001b[0;32m~/Documents/Projects/Misc/RAG/env/lib/python3.10/site-packages/cloudflare/resources/vectorize/indexes.py:521\u001b[0m, in \u001b[0;36mIndexesResource.upsert\u001b[0;34m(self, index_name, account_id, body, extra_headers, extra_query, extra_body, timeout)\u001b[0m\n\u001b[1;32m    519\u001b[0m \u001b[38;5;28;01mif\u001b[39;00m \u001b[38;5;129;01mnot\u001b[39;00m index_name:\n\u001b[1;32m    520\u001b[0m     \u001b[38;5;28;01mraise\u001b[39;00m \u001b[38;5;167;01mValueError\u001b[39;00m(\u001b[38;5;124mf\u001b[39m\u001b[38;5;124m\"\u001b[39m\u001b[38;5;124mExpected a non-empty value for `index_name` but received \u001b[39m\u001b[38;5;132;01m{\u001b[39;00mindex_name\u001b[38;5;132;01m!r}\u001b[39;00m\u001b[38;5;124m\"\u001b[39m)\n\u001b[0;32m--> 521\u001b[0m \u001b[38;5;28;01mreturn\u001b[39;00m \u001b[38;5;28;43mself\u001b[39;49m\u001b[38;5;241;43m.\u001b[39;49m\u001b[43m_post\u001b[49m\u001b[43m(\u001b[49m\n\u001b[1;32m    522\u001b[0m \u001b[43m    \u001b[49m\u001b[38;5;124;43mf\u001b[39;49m\u001b[38;5;124;43m\"\u001b[39;49m\u001b[38;5;124;43m/accounts/\u001b[39;49m\u001b[38;5;132;43;01m{\u001b[39;49;00m\u001b[43maccount_id\u001b[49m\u001b[38;5;132;43;01m}\u001b[39;49;00m\u001b[38;5;124;43m/vectorize/indexes/\u001b[39;49m\u001b[38;5;132;43;01m{\u001b[39;49;00m\u001b[43mindex_name\u001b[49m\u001b[38;5;132;43;01m}\u001b[39;49;00m\u001b[38;5;124;43m/upsert\u001b[39;49m\u001b[38;5;124;43m\"\u001b[39;49m\u001b[43m,\u001b[49m\n\u001b[1;32m    523\u001b[0m \u001b[43m    \u001b[49m\u001b[43mbody\u001b[49m\u001b[38;5;241;43m=\u001b[39;49m\u001b[43mmaybe_transform\u001b[49m\u001b[43m(\u001b[49m\u001b[43mbody\u001b[49m\u001b[43m,\u001b[49m\u001b[43m \u001b[49m\u001b[43mindex_upsert_params\u001b[49m\u001b[38;5;241;43m.\u001b[39;49m\u001b[43mIndexUpsertParams\u001b[49m\u001b[43m)\u001b[49m\u001b[43m,\u001b[49m\n\u001b[1;32m    524\u001b[0m \u001b[43m    \u001b[49m\u001b[43moptions\u001b[49m\u001b[38;5;241;43m=\u001b[39;49m\u001b[43mmake_request_options\u001b[49m\u001b[43m(\u001b[49m\n\u001b[1;32m    525\u001b[0m \u001b[43m        \u001b[49m\u001b[43mextra_headers\u001b[49m\u001b[38;5;241;43m=\u001b[39;49m\u001b[43mextra_headers\u001b[49m\u001b[43m,\u001b[49m\n\u001b[1;32m    526\u001b[0m \u001b[43m        \u001b[49m\u001b[43mextra_query\u001b[49m\u001b[38;5;241;43m=\u001b[39;49m\u001b[43mextra_query\u001b[49m\u001b[43m,\u001b[49m\n\u001b[1;32m    527\u001b[0m \u001b[43m        \u001b[49m\u001b[43mextra_body\u001b[49m\u001b[38;5;241;43m=\u001b[39;49m\u001b[43mextra_body\u001b[49m\u001b[43m,\u001b[49m\n\u001b[1;32m    528\u001b[0m \u001b[43m        \u001b[49m\u001b[43mtimeout\u001b[49m\u001b[38;5;241;43m=\u001b[39;49m\u001b[43mtimeout\u001b[49m\u001b[43m,\u001b[49m\n\u001b[1;32m    529\u001b[0m \u001b[43m        \u001b[49m\u001b[43mpost_parser\u001b[49m\u001b[38;5;241;43m=\u001b[39;49m\u001b[43mResultWrapper\u001b[49m\u001b[43m[\u001b[49m\u001b[43mOptional\u001b[49m\u001b[43m[\u001b[49m\u001b[43mIndexUpsert\u001b[49m\u001b[43m]\u001b[49m\u001b[43m]\u001b[49m\u001b[38;5;241;43m.\u001b[39;49m\u001b[43m_unwrapper\u001b[49m\u001b[43m,\u001b[49m\n\u001b[1;32m    530\u001b[0m \u001b[43m    \u001b[49m\u001b[43m)\u001b[49m\u001b[43m,\u001b[49m\n\u001b[1;32m    531\u001b[0m \u001b[43m    \u001b[49m\u001b[43mcast_to\u001b[49m\u001b[38;5;241;43m=\u001b[39;49m\u001b[43mcast\u001b[49m\u001b[43m(\u001b[49m\u001b[43mType\u001b[49m\u001b[43m[\u001b[49m\u001b[43mOptional\u001b[49m\u001b[43m[\u001b[49m\u001b[43mIndexUpsert\u001b[49m\u001b[43m]\u001b[49m\u001b[43m]\u001b[49m\u001b[43m,\u001b[49m\u001b[43m \u001b[49m\u001b[43mResultWrapper\u001b[49m\u001b[43m[\u001b[49m\u001b[43mIndexUpsert\u001b[49m\u001b[43m]\u001b[49m\u001b[43m)\u001b[49m\u001b[43m,\u001b[49m\n\u001b[1;32m    532\u001b[0m \u001b[43m\u001b[49m\u001b[43m)\u001b[49m\n",
      "File \u001b[0;32m~/Documents/Projects/Misc/RAG/env/lib/python3.10/site-packages/cloudflare/_base_client.py:1235\u001b[0m, in \u001b[0;36mSyncAPIClient.post\u001b[0;34m(self, path, cast_to, body, options, files, stream, stream_cls)\u001b[0m\n\u001b[1;32m   1221\u001b[0m \u001b[38;5;28;01mdef\u001b[39;00m \u001b[38;5;21mpost\u001b[39m(\n\u001b[1;32m   1222\u001b[0m     \u001b[38;5;28mself\u001b[39m,\n\u001b[1;32m   1223\u001b[0m     path: \u001b[38;5;28mstr\u001b[39m,\n\u001b[0;32m   (...)\u001b[0m\n\u001b[1;32m   1230\u001b[0m     stream_cls: \u001b[38;5;28mtype\u001b[39m[_StreamT] \u001b[38;5;241m|\u001b[39m \u001b[38;5;28;01mNone\u001b[39;00m \u001b[38;5;241m=\u001b[39m \u001b[38;5;28;01mNone\u001b[39;00m,\n\u001b[1;32m   1231\u001b[0m ) \u001b[38;5;241m-\u001b[39m\u001b[38;5;241m>\u001b[39m ResponseT \u001b[38;5;241m|\u001b[39m _StreamT:\n\u001b[1;32m   1232\u001b[0m     opts \u001b[38;5;241m=\u001b[39m FinalRequestOptions\u001b[38;5;241m.\u001b[39mconstruct(\n\u001b[1;32m   1233\u001b[0m         method\u001b[38;5;241m=\u001b[39m\u001b[38;5;124m\"\u001b[39m\u001b[38;5;124mpost\u001b[39m\u001b[38;5;124m\"\u001b[39m, url\u001b[38;5;241m=\u001b[39mpath, json_data\u001b[38;5;241m=\u001b[39mbody, files\u001b[38;5;241m=\u001b[39mto_httpx_files(files), \u001b[38;5;241m*\u001b[39m\u001b[38;5;241m*\u001b[39moptions\n\u001b[1;32m   1234\u001b[0m     )\n\u001b[0;32m-> 1235\u001b[0m     \u001b[38;5;28;01mreturn\u001b[39;00m cast(ResponseT, \u001b[38;5;28;43mself\u001b[39;49m\u001b[38;5;241;43m.\u001b[39;49m\u001b[43mrequest\u001b[49m\u001b[43m(\u001b[49m\u001b[43mcast_to\u001b[49m\u001b[43m,\u001b[49m\u001b[43m \u001b[49m\u001b[43mopts\u001b[49m\u001b[43m,\u001b[49m\u001b[43m \u001b[49m\u001b[43mstream\u001b[49m\u001b[38;5;241;43m=\u001b[39;49m\u001b[43mstream\u001b[49m\u001b[43m,\u001b[49m\u001b[43m \u001b[49m\u001b[43mstream_cls\u001b[49m\u001b[38;5;241;43m=\u001b[39;49m\u001b[43mstream_cls\u001b[49m\u001b[43m)\u001b[49m)\n",
      "File \u001b[0;32m~/Documents/Projects/Misc/RAG/env/lib/python3.10/site-packages/cloudflare/_base_client.py:930\u001b[0m, in \u001b[0;36mSyncAPIClient.request\u001b[0;34m(self, cast_to, options, remaining_retries, stream, stream_cls)\u001b[0m\n\u001b[1;32m    921\u001b[0m \u001b[38;5;28;01mdef\u001b[39;00m \u001b[38;5;21mrequest\u001b[39m(\n\u001b[1;32m    922\u001b[0m     \u001b[38;5;28mself\u001b[39m,\n\u001b[1;32m    923\u001b[0m     cast_to: Type[ResponseT],\n\u001b[0;32m   (...)\u001b[0m\n\u001b[1;32m    928\u001b[0m     stream_cls: \u001b[38;5;28mtype\u001b[39m[_StreamT] \u001b[38;5;241m|\u001b[39m \u001b[38;5;28;01mNone\u001b[39;00m \u001b[38;5;241m=\u001b[39m \u001b[38;5;28;01mNone\u001b[39;00m,\n\u001b[1;32m    929\u001b[0m ) \u001b[38;5;241m-\u001b[39m\u001b[38;5;241m>\u001b[39m ResponseT \u001b[38;5;241m|\u001b[39m _StreamT:\n\u001b[0;32m--> 930\u001b[0m     \u001b[38;5;28;01mreturn\u001b[39;00m \u001b[38;5;28;43mself\u001b[39;49m\u001b[38;5;241;43m.\u001b[39;49m\u001b[43m_request\u001b[49m\u001b[43m(\u001b[49m\n\u001b[1;32m    931\u001b[0m \u001b[43m        \u001b[49m\u001b[43mcast_to\u001b[49m\u001b[38;5;241;43m=\u001b[39;49m\u001b[43mcast_to\u001b[49m\u001b[43m,\u001b[49m\n\u001b[1;32m    932\u001b[0m \u001b[43m        \u001b[49m\u001b[43moptions\u001b[49m\u001b[38;5;241;43m=\u001b[39;49m\u001b[43moptions\u001b[49m\u001b[43m,\u001b[49m\n\u001b[1;32m    933\u001b[0m \u001b[43m        \u001b[49m\u001b[43mstream\u001b[49m\u001b[38;5;241;43m=\u001b[39;49m\u001b[43mstream\u001b[49m\u001b[43m,\u001b[49m\n\u001b[1;32m    934\u001b[0m \u001b[43m        \u001b[49m\u001b[43mstream_cls\u001b[49m\u001b[38;5;241;43m=\u001b[39;49m\u001b[43mstream_cls\u001b[49m\u001b[43m,\u001b[49m\n\u001b[1;32m    935\u001b[0m \u001b[43m        \u001b[49m\u001b[43mremaining_retries\u001b[49m\u001b[38;5;241;43m=\u001b[39;49m\u001b[43mremaining_retries\u001b[49m\u001b[43m,\u001b[49m\n\u001b[1;32m    936\u001b[0m \u001b[43m    \u001b[49m\u001b[43m)\u001b[49m\n",
      "File \u001b[0;32m~/Documents/Projects/Misc/RAG/env/lib/python3.10/site-packages/cloudflare/_base_client.py:1028\u001b[0m, in \u001b[0;36mSyncAPIClient._request\u001b[0;34m(self, cast_to, options, remaining_retries, stream, stream_cls)\u001b[0m\n\u001b[1;32m   1025\u001b[0m         err\u001b[38;5;241m.\u001b[39mresponse\u001b[38;5;241m.\u001b[39mread()\n\u001b[1;32m   1027\u001b[0m     log\u001b[38;5;241m.\u001b[39mdebug(\u001b[38;5;124m\"\u001b[39m\u001b[38;5;124mRe-raising status error\u001b[39m\u001b[38;5;124m\"\u001b[39m)\n\u001b[0;32m-> 1028\u001b[0m     \u001b[38;5;28;01mraise\u001b[39;00m \u001b[38;5;28mself\u001b[39m\u001b[38;5;241m.\u001b[39m_make_status_error_from_response(err\u001b[38;5;241m.\u001b[39mresponse) \u001b[38;5;28;01mfrom\u001b[39;00m \u001b[38;5;28;01mNone\u001b[39;00m\n\u001b[1;32m   1030\u001b[0m \u001b[38;5;28;01mreturn\u001b[39;00m \u001b[38;5;28mself\u001b[39m\u001b[38;5;241m.\u001b[39m_process_response(\n\u001b[1;32m   1031\u001b[0m     cast_to\u001b[38;5;241m=\u001b[39mcast_to,\n\u001b[1;32m   1032\u001b[0m     options\u001b[38;5;241m=\u001b[39moptions,\n\u001b[0;32m   (...)\u001b[0m\n\u001b[1;32m   1035\u001b[0m     stream_cls\u001b[38;5;241m=\u001b[39mstream_cls,\n\u001b[1;32m   1036\u001b[0m )\n",
      "\u001b[0;31mBadRequestError\u001b[0m: Error code: 400 - {'result': None, 'success': False, 'errors': [{'code': 1006, 'message': 'vectorize.invalid_body_payload'}], 'messages': []}"
     ]
    }
   ],
   "source": [
    "# Vector upsert\n",
    "\n",
    "vectors = list()\n",
    "for idx, doc_embedding in enumerate(doc_embeddings):\n",
    "    vectors.append({\n",
    "        \"id\": str(doc_ids[idx]),\n",
    "        \"values\": doc_embedding\n",
    "    })\n",
    "\n",
    "# url = f\"https://api.cloudflare.com/client/v4/accounts/{CLOUDFLARE_ACCOUNT_IDENTIFIER}/vectorize/indexes/{index_name}/upsert\"\n",
    "\n",
    "# filename = 'vectors.ndjson'\n",
    "# with open(filename, 'w') as file:\n",
    "#     for vector in vectors:\n",
    "#         json.dump(vector, file)\n",
    "#         file.write('\\n')\n",
    "\n",
    "ndjson_str = \"\\n\".join(json.dumps(vector) for vector in vectors)\n",
    "\n",
    "# headers = {\n",
    "#     \"Content-Type\": \"application/x-ndjson\",\n",
    "#     \"Authorization\": f\"Bearer {CLOUDFLARE_TOKEN}\"\n",
    "# }\n",
    "\n",
    "# response = requests.post(url=url, data=filename, headers=headers)\n",
    "\n",
    "# print(response.status_code)\n",
    "# print(response.text)\n",
    "\n",
    "# ndjson_file = BytesIO()\n",
    "# for vector in vectors:\n",
    "#     ndjson_file.write(json.dumps(vector).encode('utf-8'))\n",
    "#     ndjson_file.write(b'\\n')\n",
    "\n",
    "# ndjson_file.seek(0)\n",
    "\n",
    "cf_client = Cloudflare(api_token=CLOUDFLARE_TOKEN)\n",
    "result = cf_client.vectorize.indexes.upsert(\n",
    "    index_name=index_name,\n",
    "    account_id=CLOUDFLARE_ACCOUNT_IDENTIFIER,\n",
    "    body=ndjson_str,\n",
    "    extra_headers={\"Content-Type\": \"application/x-ndjson\"}\n",
    ")\n",
    "print(result.model_dump())"
   ]
  },
  {
   "cell_type": "code",
   "execution_count": null,
   "metadata": {},
   "outputs": [],
   "source": [
    "# Embed user query\n",
    "\n",
    "query_tokens = word_tokenize(QUERY_TEXT)\n",
    "query_tokens = [word.lower() for word in query_tokens if word not in stop_words]\n",
    "\n",
    "query_model = Word2Vec(sentences=query_tokens, min_count=1, window=5, workers=4, vector_size=384)\n",
    "print(query_model)\n",
    "query_model.train(query_tokens, total_examples=len(query_tokens), epochs=10)\n",
    "\n",
    "valid_tokens = [token for token in query_tokens if token in query_model.wv]\n",
    "if not valid_tokens:\n",
    "    query_embeddings = np.zeros(query_model.vector_size)\n",
    "else:\n",
    "    query_embeddings = np.mean([query_model.wv[token] for token in valid_tokens], axis=0)\n",
    "\n",
    "query_embeddings = list(map(float, query_embeddings))"
   ]
  },
  {
   "cell_type": "code",
   "execution_count": null,
   "metadata": {},
   "outputs": [],
   "source": [
    "# Query vectors\n",
    "\n",
    "url = f\"https://api.cloudflare.com/client/v4/accounts/{CLOUDFLARE_ACCOUNT_IDENTIFIER}/vectorize/indexes/{index_name}/query\"\n",
    "\n",
    "payload = {\"vector\": query_embeddings}\n",
    "\n",
    "headers = {\n",
    "    \"Content-Type\": \"application/json\",\n",
    "    \"Authorization\": f\"Bearer {CLOUDFLARE_TOKEN}\"\n",
    "}\n",
    "\n",
    "response = requests.post(url=url, headers=headers, json=payload)\n",
    "\n",
    "print(response.status_code)\n",
    "print(response.text)"
   ]
  },
  {
   "cell_type": "code",
   "execution_count": null,
   "metadata": {},
   "outputs": [],
   "source": [
    "# Instantiate OpenAI client\n",
    "\n",
    "openai = OpenAI(\n",
    "    api_key=OPENAI_API_KEY,\n",
    "    organization=OPENAI_ORGANIZATION_ID,\n",
    "    project=OPENAI_PROJECT_ID\n",
    ")"
   ]
  },
  {
   "cell_type": "code",
   "execution_count": null,
   "metadata": {},
   "outputs": [],
   "source": [
    "# Making OpenAI request\n",
    "\n",
    "tools = list()\n",
    "for resultant_content in resultant_contents:\n",
    "    temp = {\n",
    "      \"type\": \"function\",\n",
    "      \"function\": {\n",
    "        \"name\": \"information\",\n",
    "        \"description\": \"the chat information\",\n",
    "        \"parameters\": {\n",
    "          \"type\": \"object\",\n",
    "          \"properties\": {\n",
    "            \"text\": {\n",
    "              \"type\": \"string\",\n",
    "              \"description\": resultant_content.get('content'),\n",
    "            },\n",
    "          },\n",
    "          \"required\": [\"text\"],\n",
    "        },\n",
    "      }\n",
    "    }\n",
    "    tools.append(temp)\n",
    "\n",
    "messages = [\n",
    "    {\n",
    "        \"role\": \"system\",\n",
    "        \"content\": \"You are an assistant.\"\n",
    "    },\n",
    "    {\n",
    "        \"role\": \"user\",\n",
    "        \"content\": QUERY_TEXT\n",
    "    }\n",
    "]\n",
    "\n",
    "response = openai.chat.completions.create(\n",
    "    messages=messages,\n",
    "    model=\"gpt-3.5-turbo\",\n",
    "    tools=tools,\n",
    "    tool_choice={\"type\": \"function\", \"function\": {\"name\": \"information\"}}\n",
    ")"
   ]
  },
  {
   "cell_type": "code",
   "execution_count": null,
   "metadata": {},
   "outputs": [],
   "source": [
    "# Retrieving OpenAI response\n",
    "\n",
    "result = response.choices[0].message.tool_calls[0].function.arguments\n",
    "result_json = json.loads(result)\n",
    "print(result_json.get('text'))\n"
   ]
  }
 ],
 "metadata": {
  "kernelspec": {
   "display_name": "env",
   "language": "python",
   "name": "python3"
  },
  "language_info": {
   "codemirror_mode": {
    "name": "ipython",
    "version": 3
   },
   "file_extension": ".py",
   "mimetype": "text/x-python",
   "name": "python",
   "nbconvert_exporter": "python",
   "pygments_lexer": "ipython3",
   "version": "3.10.11"
  }
 },
 "nbformat": 4,
 "nbformat_minor": 2
}
